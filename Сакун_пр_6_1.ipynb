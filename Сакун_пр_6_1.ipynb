{
 "cells": [
  {
   "cell_type": "markdown",
   "id": "62e267d8-27e5-4790-b75a-b5993437c79a",
   "metadata": {},
   "source": [
    "1. Завантажити набір даних Iris з бібліотеки scikit-learn."
   ]
  },
  {
   "cell_type": "code",
   "execution_count": 6,
   "id": "dd33408b-5939-4344-952d-5a34c61c3c05",
   "metadata": {},
   "outputs": [
    {
     "name": "stdout",
     "output_type": "stream",
     "text": [
      ".. _iris_dataset:\n",
      "\n",
      "Iris plants dataset\n",
      "--------------------\n",
      "\n",
      "**Data Set Characteristics:**\n",
      "\n",
      "    :Number of Instances: 150 (50 in each of three classes)\n",
      "    :Number of Attributes: 4 numeric, predictive attributes and the class\n",
      "    :Attribute Information:\n",
      "        - sepal length in cm\n",
      "        - sepal width in cm\n",
      "        - petal length in cm\n",
      "        - petal width in cm\n",
      "        - class:\n",
      "                - Iris-Setosa\n",
      "                - Iris-Versicolour\n",
      "                - Iris-Virginica\n",
      "                \n",
      "    :Summary Statistics:\n",
      "\n",
      "    ============== ==== ==== ======= ===== ====================\n",
      "                    Min  Max   Mean    SD   Class Correlation\n",
      "    ============== ==== ==== ======= ===== ====================\n",
      "    sepal length:   4.3  7.9   5.84   0.83    0.7826\n",
      "    sepal width:    2.0  4.4   3.05   0.43   -0.4194\n",
      "    petal length:   1.0  6.9   3.76   1.76    0.9490  (high!)\n",
      "    petal width:    0.1  2.5   1.20   0.76    0.9565  (high!)\n",
      "    ============== ==== ==== ======= ===== ====================\n",
      "\n",
      "    :Missing Attribute Values: None\n",
      "    :Class Distribution: 33.3% for each of 3 classes.\n",
      "    :Creator: R.A. Fisher\n",
      "    :Donor: Michael Marshall (MARSHALL%PLU@io.arc.nasa.gov)\n",
      "    :Date: July, 1988\n",
      "\n",
      "The famous Iris database, first used by Sir R.A. Fisher. The dataset is taken\n",
      "from Fisher's paper. Note that it's the same as in R, but not as in the UCI\n",
      "Machine Learning Repository, which has two wrong data points.\n",
      "\n",
      "This is perhaps the best known database to be found in the\n",
      "pattern recognition literature.  Fisher's paper is a classic in the field and\n",
      "is referenced frequently to this day.  (See Duda & Hart, for example.)  The\n",
      "data set contains 3 classes of 50 instances each, where each class refers to a\n",
      "type of iris plant.  One class is linearly separable from the other 2; the\n",
      "latter are NOT linearly separable from each other.\n",
      "\n",
      "|details-start|\n",
      "**References**\n",
      "|details-split|\n",
      "\n",
      "- Fisher, R.A. \"The use of multiple measurements in taxonomic problems\"\n",
      "  Annual Eugenics, 7, Part II, 179-188 (1936); also in \"Contributions to\n",
      "  Mathematical Statistics\" (John Wiley, NY, 1950).\n",
      "- Duda, R.O., & Hart, P.E. (1973) Pattern Classification and Scene Analysis.\n",
      "  (Q327.D83) John Wiley & Sons.  ISBN 0-471-22361-1.  See page 218.\n",
      "- Dasarathy, B.V. (1980) \"Nosing Around the Neighborhood: A New System\n",
      "  Structure and Classification Rule for Recognition in Partially Exposed\n",
      "  Environments\".  IEEE Transactions on Pattern Analysis and Machine\n",
      "  Intelligence, Vol. PAMI-2, No. 1, 67-71.\n",
      "- Gates, G.W. (1972) \"The Reduced Nearest Neighbor Rule\".  IEEE Transactions\n",
      "  on Information Theory, May 1972, 431-433.\n",
      "- See also: 1988 MLC Proceedings, 54-64.  Cheeseman et al\"s AUTOCLASS II\n",
      "  conceptual clustering system finds 3 classes in the data.\n",
      "- Many, many more ...\n",
      "\n",
      "|details-end|\n"
     ]
    }
   ],
   "source": [
    "from sklearn import datasets\n",
    "from sklearn.model_selection import train_test_split\n",
    "from sklearn.svm import SVC\n",
    "from sklearn.ensemble import RandomForestClassifier\n",
    "from sklearn.metrics import accuracy_score\n",
    "\n",
    "# Завантаження датасету Iris\n",
    "iris = datasets.load_iris()\n",
    "# Виведення опису набору даних\n",
    "print(iris.DESCR)\n",
    "\n",
    "X = iris.data  # Ознаки\n",
    "y = iris.target  # Класи"
   ]
  },
  {
   "cell_type": "markdown",
   "id": "2d2a50c9-804c-4ffd-a84f-a1a62169cf1b",
   "metadata": {},
   "source": [
    "Розділити дані на тренувальний та тестовий набори."
   ]
  },
  {
   "cell_type": "code",
   "execution_count": 7,
   "id": "a14b5a58-e475-4c65-baed-0686db4894c2",
   "metadata": {},
   "outputs": [],
   "source": [
    "# Розділяємо дані на тренувальний та тестовий набори\n",
    "X_train, X_test, y_train, y_test = train_test_split(X, y, test_size=0.2, random_state=42)"
   ]
  },
  {
   "cell_type": "markdown",
   "id": "a797b1f0-b19c-4502-a818-03659837d205",
   "metadata": {},
   "source": [
    "Застосувати алгоритм SVM для класифікації даних та визначити його точність."
   ]
  },
  {
   "cell_type": "code",
   "execution_count": 8,
   "id": "c9622ad9-5b73-498f-9d20-a28e281ee1be",
   "metadata": {},
   "outputs": [
    {
     "name": "stdout",
     "output_type": "stream",
     "text": [
      "Точність SVM: 1.0\n"
     ]
    }
   ],
   "source": [
    "# Застосовуємо алгоритм SVM для класифікації даних\n",
    "svm_classifier = SVC(kernel='linear', C=1)\n",
    "svm_classifier.fit(X_train, y_train)\n",
    "svm_predictions = svm_classifier.predict(X_test)\n",
    "\n",
    "# Визначаємо точність моделі SVM\n",
    "svm_accuracy = accuracy_score(y_test, svm_predictions)\n",
    "print(\"Точність SVM:\", svm_accuracy)"
   ]
  },
  {
   "cell_type": "markdown",
   "id": "7d39f84f-8e06-4061-9896-8c92cd1a5bea",
   "metadata": {},
   "source": [
    "Застосувати Random Forest для класифікації даних та визначити його точність."
   ]
  },
  {
   "cell_type": "code",
   "execution_count": 9,
   "id": "dd278b7a-6c39-47f4-bfa7-d7b6ff7a86e8",
   "metadata": {},
   "outputs": [
    {
     "name": "stdout",
     "output_type": "stream",
     "text": [
      "Точність Random Forest: 1.0\n"
     ]
    }
   ],
   "source": [
    "# Застосовуємо алгоритм Random Forest для класифікації даних\n",
    "rf_classifier = RandomForestClassifier(n_estimators=100, random_state=42)\n",
    "rf_classifier.fit(X_train, y_train)\n",
    "rf_predictions = rf_classifier.predict(X_test)\n",
    "\n",
    "# Визначаємо точність моделі Random Forest\n",
    "rf_accuracy = accuracy_score(y_test, rf_predictions)\n",
    "print(\"Точність Random Forest:\", rf_accuracy)"
   ]
  },
  {
   "cell_type": "markdown",
   "id": "4f46194a-ff34-4ee5-a5e7-52d8b7e11121",
   "metadata": {},
   "source": [
    "Порівняти результати обох алгоритмів та обговорити їхню ефективність."
   ]
  },
  {
   "cell_type": "code",
   "execution_count": 10,
   "id": "7e4d62c6-5484-4985-8500-48f20458cfeb",
   "metadata": {},
   "outputs": [
    {
     "name": "stdout",
     "output_type": "stream",
     "text": [
      "SVM і Random Forest мають однакову точність.\n"
     ]
    }
   ],
   "source": [
    "# Порівнюємо результати обох алгоритмів\n",
    "if svm_accuracy > rf_accuracy:\n",
    "    print(\"SVM є більш точним за Random Forest.\")\n",
    "elif svm_accuracy < rf_accuracy:\n",
    "    print(\"Random Forest є більш точним за SVM.\")\n",
    "else:\n",
    "    print(\"SVM і Random Forest мають однакову точність.\")"
   ]
  },
  {
   "cell_type": "markdown",
   "id": "ccf5ca6a-88cf-4232-925f-03be396065c7",
   "metadata": {},
   "source": [
    "Після виконання роботи з класифікації ірисів за допомогою алгоритмів SVM та Random Forest на наборі даних Iris я отримав наступне:\n",
    "\n",
    "1. Алгоритм SVM:\n",
    "   - Точність SVM складає приблизно 1.0, що досить високо.\n",
    "   - SVM використовує лінійне ядро і показує хорошу здатність до розділення класів у випадку ірисів.\n",
    "\n",
    "2. Алгоритм Random Forest:\n",
    "   - Точність Random Forest складає приблизно 1.0, що є дуже високою точністю.\n",
    "   - Random Forest використовує ансамбль дерев рішень і зазвичай показує дуже добрі результати на широкому спектрі завдань класифікації.\n",
    "\n",
    "За результатами порівняння, можна сказати, SVM і Random Forest мають однакову точність."
   ]
  }
 ],
 "metadata": {
  "kernelspec": {
   "display_name": "Python 3 (ipykernel)",
   "language": "python",
   "name": "python3"
  },
  "language_info": {
   "codemirror_mode": {
    "name": "ipython",
    "version": 3
   },
   "file_extension": ".py",
   "mimetype": "text/x-python",
   "name": "python",
   "nbconvert_exporter": "python",
   "pygments_lexer": "ipython3",
   "version": "3.11.4"
  }
 },
 "nbformat": 4,
 "nbformat_minor": 5
}
